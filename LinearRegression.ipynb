{
 "cells": [
  {
   "cell_type": "markdown",
   "metadata": {},
   "source": [
    "# Exercises\n",
    "\n",
    "There are three exercises in this notebook:\n",
    "\n",
    "1. Use the cross-validation method to test the linear regression with different $\\alpha$ values, at least three.\n",
    "2. Implement a SGD method that will train the Lasso regression for 10 epochs.\n",
    "3. Extend the Fisher's classifier to work with two features. Use the class as the $y$."
   ]
  },
  {
   "cell_type": "markdown",
   "metadata": {},
   "source": [
    "## 1. Cross-validation linear regression\n",
    "\n",
    "You need to change the variable ``alpha`` to be a list of alphas. Next do a loop and finally compare the results."
   ]
  },
  {
   "cell_type": "code",
   "execution_count": 1,
   "metadata": {},
   "outputs": [],
   "source": [
    "import numpy as np\n",
    "from sklearn.model_selection import KFold"
   ]
  },
  {
   "cell_type": "code",
   "execution_count": 2,
   "metadata": {},
   "outputs": [
    {
     "name": "stdout",
     "output_type": "stream",
     "text": [
      "Results:\n",
      "Alpha: 0.001 \t Result: 728.1805422778291\n",
      "Alpha: 0.01 \t Result: 618.4111729996044\n",
      "Alpha: 0.1 \t Result: 590.6667164595267\n",
      "Alpha: 1 \t Result: 786.3752986524403\n",
      "Alpha: 10 \t Result: 833.8706761853391\n",
      "Alpha: 100 \t Result: 839.2205964358989\n",
      "\n",
      "Best alpha: 0.1\n"
     ]
    }
   ],
   "source": [
    "x = np.array([188, 181, 197, 168, 167, 187, 178, 194, 140, 176, 168, 192, 173, 142, 176]).reshape(-1, 1)\n",
    "y = np.array([141, 106, 149, 59, 79, 136, 65, 136, 52, 87, 115, 140, 82, 69, 121]).reshape(-1, 1)\n",
    "\n",
    "x = np.asmatrix(np.c_[np.ones((15,1)), x])\n",
    "\n",
    "I = np.identity(2)\n",
    "alphas = [0.001, 0.01, 0.1, 1, 10, 100]\n",
    "kf = KFold(n_splits=5, shuffle=True, random_state=42)\n",
    "\n",
    "results = []\n",
    "for alpha in alphas:\n",
    "    mse_list = []\n",
    "    for train_idx, test_idx in kf.split(x):\n",
    "        x_train, x_test = x[train_idx], x[test_idx]\n",
    "        y_train, y_test = y[train_idx], y[test_idx]\n",
    "        \n",
    "        w = np.linalg.inv(x_train.T * x_train + alpha * I) * x_train.T * y_train\n",
    "        y_pred = x_test * w\n",
    "        mse_list.append( float(np.mean((y_test.ravel() - y_pred.ravel().A1)**2)) )\n",
    "\n",
    "    results.append(float(np.mean(mse_list)))\n",
    "\n",
    "print('Results:')\n",
    "for alpha, result in zip(alphas, results):\n",
    "    print(f'Alpha: {alpha} \\t Result: {result}')\n",
    "print()\n",
    "best_result = min(results)\n",
    "best_alpha = alphas[results.index(best_result)]\n",
    "print(f'Best alpha: {best_alpha}')"
   ]
  },
  {
   "cell_type": "markdown",
   "metadata": {},
   "source": [
    "## 2. Implement based on the Ridge regression example, the Lasso regression.\n",
    "\n",
    "Please implement the SGD method and compare the results with the sklearn Lasso regression results. "
   ]
  },
  {
   "cell_type": "code",
   "execution_count": 3,
   "metadata": {},
   "outputs": [],
   "source": [
    "def predict(X, w, b):\n",
    "    return (X.dot(w) + b)"
   ]
  },
  {
   "cell_type": "code",
   "execution_count": 4,
   "metadata": {},
   "outputs": [],
   "source": [
    "def upadte_weights(X, Y, m, n, w, b, alpha, learning_rate):\n",
    "    Y_prediction = predict(X, w, b)\n",
    "    dw = np.zeros(n)\n",
    "    for i in range(n):\n",
    "      if w[i]>0:\n",
    "        dw[i] = (-(2*(X[:,i]).dot(Y - Y_prediction)) + alpha) / m \n",
    "      else :\n",
    "        dw[i] = (-(2*(X[:,i]).dot(Y - Y_prediction)) - alpha) / m\n",
    "\n",
    "    db = - 2 * np.sum(Y - Y_prediction) / m\n",
    "\n",
    "    w = w - learning_rate*dw\n",
    "    b = b - learning_rate*db\n",
    "\n",
    "    return w, b"
   ]
  },
  {
   "cell_type": "code",
   "execution_count": 5,
   "metadata": {},
   "outputs": [],
   "source": [
    "def fit(X, Y, epochs, alpha, learning_rate):\n",
    "    m = 15\n",
    "    n = 1\n",
    "    w = np.zeros(n)\n",
    "    b = 0\n",
    "    for i in range(epochs):\n",
    "        w, b = upadte_weights(X, Y, m, n, w, b, alpha, learning_rate)\n",
    "    return w, b"
   ]
  },
  {
   "cell_type": "code",
   "execution_count": 6,
   "metadata": {},
   "outputs": [
    {
     "name": "stdout",
     "output_type": "stream",
     "text": [
      "SGD:  [0.59386815] 0.0030520529904405663\n",
      "Ridge:  [[-101.72397081    1.16978757]]\n",
      "Lasso:  [1.61776499] -180.85790859980537\n"
     ]
    }
   ],
   "source": [
    "x = np.array([188, 181, 197, 168, 167, 187, 178, 194, 140, 176, 168, 192, 173, 142, 176]).reshape(-1, 1)\n",
    "y = np.array([141, 106, 149, 59, 79, 136, 65, 136, 52, 87, 115, 140, 82, 69, 121])\n",
    "\n",
    "I = np.identity(2)\n",
    "alpha = 0.1 \n",
    "w, b = fit(x, y, 10, 0.1, 0.00001)\n",
    "print(\"SGD: \",w,b)\n",
    "y = np.array([141, 106, 149, 59, 79, 136, 65, 136, 52, 87, 115, 140, 82, 69, 121]).reshape(-1, 1)\n",
    "x = np.asmatrix(np.c_[np.ones((15,1)),x])\n",
    "w = np.linalg.inv(x.T*x + alpha * I)*x.T*y # update this line\n",
    "w=w.ravel()\n",
    "print(\"Ridge: \",w)\n",
    "\n",
    "from sklearn.linear_model import Lasso\n",
    "x = np.array([188, 181, 197, 168, 167, 187, 178, 194, 140, 176, 168, 192, 173, 142, 176]).reshape(-1, 1)\n",
    "y = np.array([141, 106, 149, 59, 79, 136, 65, 136, 52, 87, 115, 140, 82, 69, 121])\n",
    "lasso_regression = Lasso(alpha=alpha)\n",
    "lasso_regression.fit(X=x, y=y)\n",
    "print(\"Lasso: \",lasso_regression.coef_, lasso_regression.intercept_ )"
   ]
  },
  {
   "cell_type": "markdown",
   "metadata": {},
   "source": [
    "## 3. Extend the Fisher's classifier\n",
    "\n",
    "Please extend the targets of the ``iris_data`` variable and use it as the $y$."
   ]
  },
  {
   "cell_type": "code",
   "execution_count": 7,
   "metadata": {},
   "outputs": [],
   "source": [
    "def calculate_class_means(x, y):\n",
    "    classes = [0, 1, 2]\n",
    "    class_means = []\n",
    "    for class_number in classes:\n",
    "        class_means.append(np.mean(x[y == class_number], axis=0).reshape(2, 1))\n",
    "    return class_means"
   ]
  },
  {
   "cell_type": "code",
   "execution_count": 8,
   "metadata": {},
   "outputs": [],
   "source": [
    "def calculate_within_class_scatter(class_means, x, y):\n",
    "    classes = [0, 1, 2]\n",
    "    SWs = []\n",
    "    for class_number in classes:\n",
    "        class_data = x[y == class_number]\n",
    "        mean = class_means[class_number]\n",
    "        temp = class_data.T - mean\n",
    "        SW = temp @ temp.T\n",
    "        SWs.append(SW)\n",
    "\n",
    "    SW = np.zeros((2, 2))\n",
    "    for _ in SWs:\n",
    "        SW += _\n",
    "\n",
    "    return SW"
   ]
  },
  {
   "cell_type": "code",
   "execution_count": 9,
   "metadata": {},
   "outputs": [],
   "source": [
    "def calculate_between_class_scatter(x, class_means):\n",
    "    classes = [0, 1, 2]\n",
    "    global_mean = np.mean(x, axis=0).reshape(2, 1)\n",
    "    SB = np.zeros((2, 2))\n",
    "    for class_number in classes:\n",
    "        mean_diff = class_means[class_number] - global_mean\n",
    "        SB += 50 * (mean_diff @ mean_diff.T)\n",
    "    return SB"
   ]
  },
  {
   "cell_type": "code",
   "execution_count": 10,
   "metadata": {},
   "outputs": [],
   "source": [
    "def find_weights(SW, SB):\n",
    "    eigenvals, eigenvecs = np.linalg.eig(np.linalg.inv(SW) @ SB)\n",
    "    w = eigenvecs[:, np.argmax(eigenvals)].real\n",
    "    return w"
   ]
  },
  {
   "cell_type": "code",
   "execution_count": 11,
   "metadata": {},
   "outputs": [],
   "source": [
    "def get_boundaries(x, y, w):\n",
    "    z = x @ w\n",
    "    projected_means = [np.mean(z[y == k]) for k in [0, 1, 2]]\n",
    "    boundaries = [(projected_means[0] + projected_means[1]) / 2, (projected_means[1] + projected_means[2]) / 2]\n",
    "    return boundaries"
   ]
  },
  {
   "cell_type": "code",
   "execution_count": 12,
   "metadata": {},
   "outputs": [],
   "source": [
    "def predict(sepal_length, sepal_width, w, boundaries):\n",
    "    z_new = w[0] * sepal_length + w[1] * sepal_width\n",
    "    if z_new < boundaries[0]:\n",
    "        return 0\n",
    "    elif z_new < boundaries[1]:\n",
    "        return 1\n",
    "    else:\n",
    "        return 2"
   ]
  },
  {
   "cell_type": "code",
   "execution_count": 13,
   "metadata": {},
   "outputs": [],
   "source": [
    "from sklearn.datasets import load_iris\n",
    "import pandas as pd\n",
    "iris_data = load_iris()\n",
    "iris_df = pd.DataFrame(iris_data.data,columns=iris_data.feature_names)\n",
    "x = iris_df.values # change here\n",
    "x = iris_df[['sepal width (cm)', 'sepal length (cm)']].values\n",
    "X = iris_df[['sepal width (cm)', 'sepal length (cm)']].values\n",
    "y = iris_data.target\n",
    "class_means = calculate_class_means(x, y)\n",
    "SW = calculate_within_class_scatter(class_means, x, y)\n",
    "SB = calculate_between_class_scatter(x, class_means)\n",
    "w = find_weights(SW, SB)\n",
    "boundaries = get_boundaries(x, y, w)"
   ]
  },
  {
   "cell_type": "code",
   "execution_count": null,
   "metadata": {},
   "outputs": [],
   "source": []
  }
 ],
 "metadata": {
  "kernelspec": {
   "display_name": "Python 3 (ipykernel)",
   "language": "python",
   "name": "python3"
  },
  "language_info": {
   "codemirror_mode": {
    "name": "ipython",
    "version": 3
   },
   "file_extension": ".py",
   "mimetype": "text/x-python",
   "name": "python",
   "nbconvert_exporter": "python",
   "pygments_lexer": "ipython3",
   "version": "3.13.2"
  }
 },
 "nbformat": 4,
 "nbformat_minor": 4
}
