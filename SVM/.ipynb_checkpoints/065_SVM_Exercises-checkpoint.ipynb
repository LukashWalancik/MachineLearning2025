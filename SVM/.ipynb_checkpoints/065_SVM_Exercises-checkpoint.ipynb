{
 "cells": [
  {
   "cell_type": "markdown",
   "metadata": {},
   "source": [
    "# Exercises\n",
    "\n",
    "In this section we have two exercises:\n",
    "1. Implement the polynomial kernel.\n",
    "2. Implement the multiclass C-SVM."
   ]
  },
  {
   "cell_type": "markdown",
   "metadata": {},
   "source": [
    "## Polynomial kernel\n",
    "\n",
    "You need to extend the ``build_kernel`` function and implement the polynomial kernel if the ``kernel_type`` is set to 'poly'. The equation that needs to be implemented:\n",
    "\\begin{equation}\n",
    "K=(X^{T}*Y)^{d}.\n",
    "\\end{equation}"
   ]
  },
  {
   "cell_type": "code",
   "execution_count": 1,
   "metadata": {},
   "outputs": [],
   "source": [
    "def build_kernel(data_set, kernel_type='linear'):\n",
    "    kernel = np.dot(data_set, data_set.T)\n",
    "    if kernel_type == 'rbf':\n",
    "        sigma = 1.0\n",
    "        objects_count = len(data_set)\n",
    "        b = np.ones((len(data_set), 1))\n",
    "        kernel -= 0.5 * (np.dot((np.diag(kernel)*np.ones((1, objects_count))).T, b.T)\n",
    "                         + np.dot(b, (np.diag(kernel) * np.ones((1, objects_count))).T.T))\n",
    "        kernel = np.exp(kernel / (2. * sigma ** 2))\n",
    "    elif kernel_type == 'poly':\n",
    "        degree = 3\n",
    "        kernel = np.dot(data_set, data_set.T) ** degree\n",
    "    return kernel"
   ]
  },
  {
   "cell_type": "code",
   "execution_count": 2,
   "metadata": {},
   "outputs": [
    {
     "name": "stdout",
     "output_type": "stream",
     "text": [
      "Accuracy: 1.0\n"
     ]
    },
    {
     "data": {
      "image/png": "[encoded data removed]",
      "text/plain": [
       "<Figure size 640x480 with 2 Axes>"
      ]
     },
     "metadata": {},
     "output_type": "display_data"
    }
   ],
   "source": [
    "import numpy as np\n",
    "from sklearn.datasets import load_iris\n",
    "from sklearn.model_selection import train_test_split\n",
    "from sklearn.svm import SVC\n",
    "from sklearn.metrics import accuracy_score, confusion_matrix, ConfusionMatrixDisplay\n",
    "import matplotlib.pyplot as plt\n",
    "\n",
    "iris = load_iris()\n",
    "X = iris.data\n",
    "y = iris.target\n",
    "\n",
    "X = X[y != 2]\n",
    "y = y[y != 2]\n",
    "\n",
    "X_train, X_test, y_train, y_test = train_test_split(X, y, test_size=0.2, random_state=15)\n",
    "\n",
    "K_train = build_kernel(X_train, kernel_type='poly')\n",
    "\n",
    "K_test = np.dot(X_test, X_train.T) ** 3\n",
    "\n",
    "clf = SVC(kernel='precomputed')\n",
    "clf.fit(K_train, y_train)\n",
    "\n",
    "y_pred = clf.predict(K_test)\n",
    "\n",
    "print(\"Accuracy:\", accuracy_score(y_test, y_pred))\n",
    "\n",
    "cm = confusion_matrix(y_test, y_pred)\n",
    "disp = ConfusionMatrixDisplay(confusion_matrix=cm)\n",
    "disp.plot()\n",
    "plt.show()"
   ]
  },
  {
   "cell_type": "markdown",
   "metadata": {},
   "source": [
    "## Implement a multiclass C-SVM\n",
    "\n",
    "Use the classification method that we used in notebook 7.3 and IRIS dataset to build a multiclass C-SVM classifier. Most implementation is about a function that will return the proper data set that need to be used for the prediction. You need to implement:\n",
    "- ``choose_set_for_label``\n",
    "- ``get_labels_count``"
   ]
  },
  {
   "cell_type": "code",
   "execution_count": 3,
   "metadata": {},
   "outputs": [],
   "source": [
    "from sklearn.datasets import load_iris\n",
    "from sklearn.model_selection import train_test_split\n",
    "import cvxopt\n",
    "\n",
    "iris = load_iris()\n",
    "data_set = iris.data\n",
    "labels = iris.target\n",
    "\n",
    "train_data_set, test_data_set, train_labels, test_labels = train_test_split(\n",
    "    data_set, labels, test_size=0.2, random_state=15)"
   ]
  },
  {
   "cell_type": "code",
   "execution_count": 4,
   "metadata": {},
   "outputs": [],
   "source": [
    "def choose_set_for_label(data_set, label):\n",
    "    y_binary = np.where(train_labels == label, 1, -1)\n",
    "    test_y_binary = np.where(test_labels == label, 1, -1)\n",
    "    return train_data_set, test_data_set, y_binary, test_y_binary"
   ]
  },
  {
   "cell_type": "code",
   "execution_count": 5,
   "metadata": {},
   "outputs": [],
   "source": [
    "def get_labels_count(data_set):\n",
    "    return len(np.unique(train_labels))"
   ]
  },
  {
   "cell_type": "markdown",
   "metadata": {},
   "source": [
    "Use the code that we have implemented earlier:"
   ]
  },
  {
   "cell_type": "code",
   "execution_count": 6,
   "metadata": {},
   "outputs": [],
   "source": [
    "def train(train_data_set, train_labels, kernel_type='linear', C=10, threshold=1e-5):\n",
    "    kernel = build_kernel(train_data_set, kernel_type=kernel_type)\n",
    "\n",
    "    P = train_labels * train_labels.transpose() * kernel\n",
    "    q = -np.ones((objects_count, 1))\n",
    "    G = np.concatenate((np.eye(objects_count), -np.eye(objects_count)))\n",
    "    h = np.concatenate((C * np.ones((objects_count, 1)), np.zeros((objects_count, 1))))\n",
    "\n",
    "    A = train_labels.reshape(1, objects_count)\n",
    "    A = A.astype(float)\n",
    "    b = 0.0\n",
    "\n",
    "    sol = cvxopt.solvers.qp(cvxopt.matrix(P), cvxopt.matrix(q), cvxopt.matrix(G), cvxopt.matrix(h), cvxopt.matrix(A), cvxopt.matrix(b))\n",
    "\n",
    "    lambdas = np.array(sol['x'])\n",
    "\n",
    "    support_vectors_id = np.where(lambdas > threshold)[0]\n",
    "    vector_number = len(support_vectors_id)\n",
    "    support_vectors = train_data_set[support_vectors_id, :]\n",
    "\n",
    "    lambdas = lambdas[support_vectors_id]\n",
    "    targets = train_labels[support_vectors_id]\n",
    "\n",
    "    b = np.sum(targets)\n",
    "    for n in range(vector_number):\n",
    "        b -= np.sum(lambdas * targets * np.reshape(kernel[support_vectors_id[n], support_vectors_id], (vector_number, 1)))\n",
    "    b /= len(lambdas)\n",
    "\n",
    "    return lambdas, support_vectors, support_vectors_id, b, targets, vector_number\n",
    "\n",
    "def build_kernel(data_set, kernel_type='linear'):\n",
    "    kernel = np.dot(data_set, data_set.T)\n",
    "    if kernel_type == 'rbf':\n",
    "        sigma = 1.0\n",
    "        objects_count = len(data_set)\n",
    "        b = np.ones((len(data_set), 1))\n",
    "        kernel -= 0.5 * (np.dot((np.diag(kernel)*np.ones((1, objects_count))).T, b.T)\n",
    "                         + np.dot(b, (np.diag(kernel) * np.ones((1, objects_count))).T.T))\n",
    "        kernel = np.exp(kernel / (2. * sigma ** 2))\n",
    "    return kernel\n",
    "\n",
    "def classify_rbf(test_data_set, train_data_set, lambdas, targets, b, vector_number, support_vectors, support_vectors_id):\n",
    "    kernel = np.dot(test_data_set, support_vectors.T)\n",
    "    sigma = 1.0\n",
    "    #K = np.dot(test_data_set, support_vectors.T)\n",
    "    #kernel = build_kernel(train_data_set, kernel_type='rbf')\n",
    "    c = (1. / sigma * np.sum(test_data_set ** 2, axis=1) * np.ones((1, np.shape(test_data_set)[0]))).T\n",
    "    c = np.dot(c, np.ones((1, np.shape(kernel)[1])))\n",
    "    #aa = np.dot((np.diag(K)*np.ones((1,len(test_data_set)))).T[support_vectors_id], np.ones((1, np.shape(K)[0]))).T\n",
    "    sv = (np.diag(np.dot(train_data_set, train_data_set.T))*np.ones((1,len(train_data_set)))).T[support_vectors_id]\n",
    "    aa = np.dot(sv,np.ones((1,np.shape(kernel)[0]))).T\n",
    "    kernel = kernel - 0.5 * c - 0.5 * aa\n",
    "    kernel = np.exp(kernel / (2. * sigma ** 2))\n",
    "\n",
    "    y = np.zeros((np.shape(test_data_set)[0], 1))\n",
    "    for j in range(np.shape(test_data_set)[0]):\n",
    "        for i in range(vector_number):\n",
    "            y[j] += lambdas[i] * targets[i] * kernel[j, i]\n",
    "        y[j] += b\n",
    "    return np.sign(y)"
   ]
  },
  {
   "cell_type": "code",
   "execution_count": 7,
   "metadata": {},
   "outputs": [
    {
     "name": "stdout",
     "output_type": "stream",
     "text": [
      "     pcost       dcost       gap    pres   dres\n",
      " 0:  1.3324e+02 -1.9748e+03  4e+03  2e-01  2e-15\n",
      " 1:  8.6383e+01 -2.0657e+02  3e+02  8e-03  3e-15\n",
      " 2:  1.1785e+01 -2.6208e+01  4e+01  3e-15  2e-15\n",
      " 3: -6.8044e-01 -5.9075e+00  5e+00  4e-16  1e-15\n",
      " 4: -1.8036e+00 -3.4676e+00  2e+00  1e-16  5e-16\n",
      " 5: -2.2743e+00 -2.7856e+00  5e-01  3e-16  4e-16\n",
      " 6: -2.3977e+00 -2.6013e+00  2e-01  2e-16  4e-16\n",
      " 7: -2.4790e+00 -2.5651e+00  9e-02  2e-16  3e-16\n",
      " 8: -2.5016e+00 -2.5138e+00  1e-02  7e-16  4e-16\n",
      " 9: -2.5059e+00 -2.5061e+00  2e-04  4e-16  4e-16\n",
      "10: -2.5060e+00 -2.5060e+00  5e-06  2e-16  5e-16\n",
      "11: -2.5060e+00 -2.5060e+00  3e-07  4e-16  5e-16\n",
      "Optimal solution found.\n",
      "     pcost       dcost       gap    pres   dres\n",
      " 0:  1.7477e+02 -4.0339e+03  7e+03  2e-01  4e-15\n",
      " 1:  9.0703e+01 -5.1390e+02  7e+02  1e-02  4e-15\n",
      " 2: -3.6896e+01 -2.1569e+02  2e+02  3e-03  4e-15\n",
      " 3: -7.6419e+01 -1.3538e+02  6e+01  7e-04  4e-15\n",
      " 4: -9.2336e+01 -1.2094e+02  3e+01  2e-04  4e-15\n",
      " 5: -9.7622e+01 -1.0927e+02  1e+01  4e-05  3e-15\n",
      " 6: -1.0019e+02 -1.0337e+02  3e+00  1e-06  4e-15\n",
      " 7: -1.0100e+02 -1.0229e+02  1e+00  5e-08  3e-15\n",
      " 8: -1.0133e+02 -1.0159e+02  3e-01  1e-08  3e-15\n",
      " 9: -1.0141e+02 -1.0145e+02  4e-02  1e-09  4e-15\n",
      "10: -1.0142e+02 -1.0142e+02  1e-03  1e-11  4e-15\n",
      "11: -1.0142e+02 -1.0142e+02  2e-05  1e-13  3e-15\n",
      "Optimal solution found.\n",
      "     pcost       dcost       gap    pres   dres\n",
      " 0:  1.6776e+02 -4.4930e+03  8e+03  3e-01  4e-15\n",
      " 1:  1.1038e+02 -5.4738e+02  7e+02  9e-03  4e-15\n",
      " 2: -3.2478e+01 -2.1450e+02  2e+02  2e-03  4e-15\n",
      " 3: -7.4443e+01 -1.3360e+02  6e+01  5e-04  4e-15\n",
      " 4: -9.0830e+01 -1.2063e+02  3e+01  1e-04  4e-15\n",
      " 5: -9.6883e+01 -1.0820e+02  1e+01  4e-05  3e-15\n",
      " 6: -9.9121e+01 -1.0382e+02  5e+00  1e-06  4e-15\n",
      " 7: -1.0023e+02 -1.0158e+02  1e+00  3e-07  3e-15\n",
      " 8: -1.0060e+02 -1.0098e+02  4e-01  7e-15  5e-15\n",
      " 9: -1.0072e+02 -1.0080e+02  8e-02  7e-15  3e-15\n",
      "10: -1.0076e+02 -1.0076e+02  2e-03  4e-15  4e-15\n",
      "11: -1.0076e+02 -1.0076e+02  3e-05  4e-15  4e-15\n",
      "Optimal solution found.\n",
      "Accuracy: 1.0\n"
     ]
    }
   ],
   "source": [
    "predictions = []\n",
    "\n",
    "labels_count = get_labels_count(train_data_set)\n",
    "all_scores = []\n",
    "\n",
    "for label in range(labels_count):\n",
    "    X_train, X_test, y_train, y_test = choose_set_for_label(train_data_set, label)\n",
    "\n",
    "    objects_count = len(X_train)\n",
    "    y_train = y_train.reshape(-1, 1)\n",
    "\n",
    "    lambdas, support_vectors, support_vectors_id, b, targets, vector_number = train(\n",
    "        X_train, y_train, kernel_type='rbf')\n",
    "\n",
    "    scores = np.zeros((len(X_test), 1))\n",
    "    pred = classify_rbf(X_test, X_train, lambdas, targets, b, vector_number, support_vectors, support_vectors_id)\n",
    "\n",
    "    all_scores.append(pred)\n",
    "\n",
    "all_scores = np.hstack(all_scores)\n",
    "\n",
    "final_prediction = np.argmax(all_scores, axis=1)\n",
    "\n",
    "from sklearn.metrics import accuracy_score\n",
    "print(\"Accuracy:\", accuracy_score(final_prediction, test_labels))\n"
   ]
  }
 ],
 "metadata": {
  "kernelspec": {
   "display_name": "Python 3 (ipykernel)",
   "language": "python",
   "name": "python3"
  },
  "language_info": {
   "codemirror_mode": {
    "name": "ipython",
    "version": 3
   },
   "file_extension": ".py",
   "mimetype": "text/x-python",
   "name": "python",
   "nbconvert_exporter": "python",
   "pygments_lexer": "ipython3",
   "version": "3.13.3"
  }
 },
 "nbformat": 4,
 "nbformat_minor": 4
}
