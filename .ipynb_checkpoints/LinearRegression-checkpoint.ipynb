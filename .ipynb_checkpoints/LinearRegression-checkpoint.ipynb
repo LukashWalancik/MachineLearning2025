{
 "cells": [
  {
   "cell_type": "markdown",
   "metadata": {},
   "source": [
    "# Exercises\n",
    "\n",
    "There are three exercises in this notebook:\n",
    "\n",
    "1. Use the cross-validation method to test the linear regression with different $\\alpha$ values, at least three.\n",
    "2. Implement a SGD method that will train the Lasso regression for 10 epochs.\n",
    "3. Extend the Fisher's classifier to work with two features. Use the class as the $y$."
   ]
  },
  {
   "cell_type": "markdown",
   "metadata": {},
   "source": [
    "## 1. Cross-validation linear regression\n",
    "\n",
    "You need to change the variable ``alpha`` to be a list of alphas. Next do a loop and finally compare the results."
   ]
  },
  {
   "cell_type": "code",
   "execution_count": 1,
   "metadata": {},
   "outputs": [],
   "source": [
    "import numpy as np\n",
    "from sklearn.model_selection import KFold"
   ]
  },
  {
   "cell_type": "code",
   "execution_count": 2,
   "metadata": {},
   "outputs": [
    {
     "name": "stdout",
     "output_type": "stream",
     "text": [
      "Results:\n",
      "Alpha: 0.001 \t Result: 728.1805422778291\n",
      "Alpha: 0.01 \t Result: 618.4111729996044\n",
      "Alpha: 0.1 \t Result: 590.6667164595267\n",
      "Alpha: 1 \t Result: 786.3752986524403\n",
      "Alpha: 10 \t Result: 833.8706761853391\n",
      "Alpha: 100 \t Result: 839.2205964358989\n",
      "\n",
      "Best alpha: 0.1\n"
     ]
    }
   ],
   "source": [
    "x = np.array([188, 181, 197, 168, 167, 187, 178, 194, 140, 176, 168, 192, 173, 142, 176]).reshape(-1, 1)\n",
    "y = np.array([141, 106, 149, 59, 79, 136, 65, 136, 52, 87, 115, 140, 82, 69, 121]).reshape(-1, 1)\n",
    "\n",
    "x = np.asmatrix(np.c_[np.ones((15,1)), x])\n",
    "\n",
    "I = np.identity(2)\n",
    "alphas = [0.001, 0.01, 0.1, 1, 10, 100]\n",
    "kf = KFold(n_splits=5, shuffle=True, random_state=42)\n",
    "\n",
    "results = []\n",
    "for alpha in alphas:\n",
    "    mse_list = []\n",
    "    for train_idx, test_idx in kf.split(x):\n",
    "        x_train, x_test = x[train_idx], x[test_idx]\n",
    "        y_train, y_test = y[train_idx], y[test_idx]\n",
    "        \n",
    "        w = np.linalg.inv(x_train.T * x_train + alpha * I) * x_train.T * y_train\n",
    "        y_pred = x_test * w\n",
    "        mse_list.append( float(np.mean((y_test.ravel() - y_pred.ravel().A1)**2)) )\n",
    "\n",
    "    results.append(float(np.mean(mse_list)))\n",
    "\n",
    "print('Results:')\n",
    "for alpha, result in zip(alphas, results):\n",
    "    print(f'Alpha: {alpha} \\t Result: {result}')\n",
    "print()\n",
    "best_result = min(results)\n",
    "best_alpha = alphas[results.index(best_result)]\n",
    "print(f'Best alpha: {best_alpha}')"
   ]
  },
  {
   "cell_type": "markdown",
   "metadata": {},
   "source": [
    "## 2. Implement based on the Ridge regression example, the Lasso regression.\n",
    "\n",
    "Please implement the SGD method and compare the results with the sklearn Lasso regression results. "
   ]
  },
  {
   "cell_type": "code",
   "execution_count": 3,
   "metadata": {},
   "outputs": [],
   "source": [
    "def predict(X, w, b):\n",
    "    return (X.dot(w) + b)"
   ]
  },
  {
   "cell_type": "code",
   "execution_count": 4,
   "metadata": {},
   "outputs": [],
   "source": [
    "def upadte_weights(X, Y, m, n, w, b, alpha, learning_rate):\n",
    "    Y_prediction = predict(X, w, b)\n",
    "    dw = np.zeros(n)\n",
    "    for i in range(n):\n",
    "      if w[i]>0:\n",
    "        dw[i] = (-(2*(X[:,i]).dot(Y - Y_prediction)) + alpha) / m \n",
    "      else :\n",
    "        dw[i] = (-(2*(X[:,i]).dot(Y - Y_prediction)) - alpha) / m\n",
    "\n",
    "    db = - 2 * np.sum(Y - Y_prediction) / m\n",
    "\n",
    "    w = w - learning_rate*dw\n",
    "    b = b - learning_rate*db\n",
    "\n",
    "    return w, b"
   ]
  },
  {
   "cell_type": "code",
   "execution_count": 5,
   "metadata": {},
   "outputs": [],
   "source": [
    "def fit(X, Y, epochs, alpha, learning_rate):\n",
    "    m = 15\n",
    "    n = 1\n",
    "    w = np.zeros(n)\n",
    "    b = 0\n",
    "    for i in range(epochs):\n",
    "        w, b = upadte_weights(X, Y, m, n, w, b, alpha, learning_rate)\n",
    "    return w, b"
   ]
  },
  {
   "cell_type": "code",
   "execution_count": 7,
   "metadata": {},
   "outputs": [
    {
     "name": "stdout",
     "output_type": "stream",
     "text": [
      "[[188]\n",
      " [181]\n",
      " [197]\n",
      " [168]\n",
      " [167]\n",
      " [187]\n",
      " [178]\n",
      " [194]\n",
      " [140]\n",
      " [176]\n",
      " [168]\n",
      " [192]\n",
      " [173]\n",
      " [142]\n",
      " [176]]\n",
      "(15, 1)\n",
      "HALO KURWA\n",
      "w\n",
      "[-8381340.75429875]\n",
      "b\n",
      "-47447.122380872184\n",
      "[-8381340.75429875]\n",
      "[[-101.72397081    1.16978757]]\n"
     ]
    }
   ],
   "source": [
    "x = np.array([188, 181, 197, 168, 167, 187, 178, 194, 140, 176, 168, 192, 173, 142, 176]).reshape(-1, 1)\n",
    "y = np.array([141, 106, 149, 59, 79, 136, 65, 136, 52, 87, 115, 140, 82, 69, 121])\n",
    "\n",
    "I = np.identity(2)\n",
    "alpha = 0.1 \n",
    "w, b = fit(x, y, 10, 0.1, 0.0001)\n",
    "print(w)\n",
    "y = np.array([141, 106, 149, 59, 79, 136, 65, 136, 52, 87, 115, 140, 82, 69, 121]).reshape(-1, 1)\n",
    "x = np.asmatrix(np.c_[np.ones((15,1)),x])\n",
    "w = np.linalg.inv(x.T*x + alpha * I)*x.T*y # update this line\n",
    "w=w.ravel()\n",
    "print(w)"
   ]
  },
  {
   "cell_type": "markdown",
   "metadata": {},
   "source": [
    "## 3. Extend the Fisher's classifier\n",
    "\n",
    "Please extend the targets of the ``iris_data`` variable and use it as the $y$."
   ]
  },
  {
   "cell_type": "code",
   "execution_count": 8,
   "metadata": {},
   "outputs": [
    {
     "ename": "ModuleNotFoundError",
     "evalue": "No module named 'pandas'",
     "output_type": "error",
     "traceback": [
      "\u001b[31m---------------------------------------------------------------------------\u001b[39m",
      "\u001b[31mModuleNotFoundError\u001b[39m                       Traceback (most recent call last)",
      "\u001b[36mCell\u001b[39m\u001b[36m \u001b[39m\u001b[32mIn[8]\u001b[39m\u001b[32m, line 1\u001b[39m\n\u001b[32m----> \u001b[39m\u001b[32m1\u001b[39m \u001b[38;5;28;01mimport\u001b[39;00m\u001b[38;5;250m \u001b[39m\u001b[34;01mpandas\u001b[39;00m\u001b[38;5;250m \u001b[39m\u001b[38;5;28;01mas\u001b[39;00m\u001b[38;5;250m \u001b[39m\u001b[34;01mpd\u001b[39;00m\n\u001b[32m      2\u001b[39m \u001b[38;5;28;01mimport\u001b[39;00m\u001b[38;5;250m \u001b[39m\u001b[34;01mnumpy\u001b[39;00m\u001b[38;5;250m \u001b[39m\u001b[38;5;28;01mas\u001b[39;00m\u001b[38;5;250m \u001b[39m\u001b[34;01mnp\u001b[39;00m\n\u001b[32m      3\u001b[39m \u001b[38;5;28;01mimport\u001b[39;00m\u001b[38;5;250m \u001b[39m\u001b[34;01mmatplotlib\u001b[39;00m\u001b[34;01m.\u001b[39;00m\u001b[34;01mpyplot\u001b[39;00m\u001b[38;5;250m \u001b[39m\u001b[38;5;28;01mas\u001b[39;00m\u001b[38;5;250m \u001b[39m\u001b[34;01mplt\u001b[39;00m\n",
      "\u001b[31mModuleNotFoundError\u001b[39m: No module named 'pandas'"
     ]
    }
   ],
   "source": [
    "import pandas as pd\n",
    "import numpy as np\n",
    "import matplotlib.pyplot as plt\n",
    "from sklearn.datasets import load_iris\n",
    "\n",
    "iris_data = load_iris()\n",
    "iris_df = pd.DataFrame(iris_data.data,columns=iris_data.feature_names)\n",
    "iris_df.head()\n",
    "\n",
    "x = iris_df['sepal width (cm)'].values # change here\n",
    "y = iris_df['sepal length (cm)'].values # change here\n",
    "\n",
    "dataset_size = np.size(x)\n",
    "\n",
    "mean_x, mean_y = np.mean(x), np.mean(y)\n",
    "\n",
    "SS_xy = np.sum(y * x) - dataset_size * mean_y * mean_x\n",
    "SS_xx = np.sum(x * x) - dataset_size * mean_x * mean_x\n",
    "\n",
    "a = SS_xy / SS_xx\n",
    "b = mean_y - a * mean_x\n",
    "\n",
    "\n",
    "y_pred = a * x + b"
   ]
  }
 ],
 "metadata": {
  "kernelspec": {
   "display_name": "Python 3 (ipykernel)",
   "language": "python",
   "name": "python3"
  },
  "language_info": {
   "codemirror_mode": {
    "name": "ipython",
    "version": 3
   },
   "file_extension": ".py",
   "mimetype": "text/x-python",
   "name": "python",
   "nbconvert_exporter": "python",
   "pygments_lexer": "ipython3",
   "version": "3.13.2"
  }
 },
 "nbformat": 4,
 "nbformat_minor": 4
}
